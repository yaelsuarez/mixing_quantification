{
 "cells": [
  {
   "cell_type": "code",
   "execution_count": null,
   "metadata": {},
   "outputs": [],
   "source": [
    "import numpy as np\n",
    "import os\n",
    "import matplotlib.pyplot as plt\n",
    "from matplotlib import colormaps as cm\n",
    "from matplotlib.colors import ListedColormap\n",
    "from matplotlib import patches\n",
    "from PIL import Image\n",
    "import pandas as pd"
   ]
  },
  {
   "cell_type": "code",
   "execution_count": null,
   "metadata": {},
   "outputs": [],
   "source": [
    "path = r''\n",
    "save_path = r''\n",
    "conc = 2 #mg/mL of fluorophore\n",
    "font_size = 12\n",
    "save_status = \"\" #\"save\" to save the PNG files\n",
    "reference = \"No\" #\"No\" if no reference shall be taken, otherwise, index of image to be used as a reference\n",
    "title_graph = \"\""
   ]
  },
  {
   "cell_type": "code",
   "execution_count": null,
   "metadata": {},
   "outputs": [],
   "source": [
    "def get_files(path):\n",
    "    file_paths = [os.path.join(path,f) for f in sorted(os.listdir(path)) if f.endswith(\".png\")]\n",
    "    filename =  [str(f) for f in sorted(os.listdir(path)) if f.endswith(\".png\")]\n",
    "    return file_paths, filename\n",
    "\n",
    "files = get_files(path)\n",
    "def get_conc_maps(path, conc, font_size, save_status, ref):\n",
    "    file_path, filename = get_files(path)\n",
    "    if ref != \"No\":\n",
    "        base_file = file_path[ref]\n",
    "        pixel_basefile_G = get_pixels_RGB(base_file)\n",
    "        max_pixelbf_G = np.max(pixel_basefile_G)\n",
    "        k = conc/max_pixelbf_G\n",
    "    if ref == \"No\":\n",
    "        k = conc\n",
    "    for fp, f in zip(file_path, filename):\n",
    "        pixel_conc = plot_surface(fp, k, f, font_size, save_status)\n",
    "        \n",
    "\n",
    "def get_pixels_RGB(file):\n",
    "    im = Image.open(file, 'r')\n",
    "    pixel_RGB = np.array(im)\n",
    "    pixel_G = np.float32(pixel_RGB[:,:,1])\n",
    "    return (pixel_G)\n",
    "\n",
    "def get_pixels_conc(pixel_G, k):\n",
    "    max_pixel_G = np.max(pixel_G)\n",
    "    if reference != \"No\":\n",
    "        pixel_conc = (pixel_G * k)\n",
    "    if reference == \"No\":\n",
    "        pixel_conc = (pixel_G * k)/max_pixel_G\n",
    "    return pixel_conc\n",
    "\n",
    "def plot_surface(file, k, title, font_size, save_status):\n",
    "    pixel_G = get_pixels_RGB(file)\n",
    "    pixel_conc = get_pixels_conc(pixel_G, k)\n",
    "    plt.figure(figsize=(6,6))\n",
    "    cmap = cm['jet']\n",
    "    newcolors = cmap(np.linspace(0, 1, 256))\n",
    "    black = np.array([0, 0, 0, 1])\n",
    "    newcolors[:12, :] = black\n",
    "    newcmp = ListedColormap(newcolors)\n",
    "    plt.imshow(pixel_conc, cmap = 'jet', vmax=conc, vmin=0)\n",
    "    plt.colorbar().set_label(label=\"FITC concentration [mg/mL]\", size=font_size)\n",
    "    title =  \" \" + title[:-4]\n",
    "    plot_format(title_graph + title, font_size, save_status)\n",
    "    return pixel_conc\n",
    "\n",
    "def plot_format(title, font_size, save_status):\n",
    "    plt.title(title, size=font_size+2)\n",
    "    plt.xlabel(\"Position [pixel]\")\n",
    "    plt.ylabel(\"Position [pixel]\")\n",
    "    plt.axis(\"off\")\n",
    "    if save_status == \"save\":\n",
    "        plt.savefig(os.path.join(save_path, f\"{title}.svg\"), transparent=True)\n"
   ]
  },
  {
   "cell_type": "code",
   "execution_count": null,
   "metadata": {},
   "outputs": [],
   "source": [
    "get_conc_maps(path, conc, font_size, save_status, reference)"
   ]
  }
 ],
 "metadata": {
  "kernelspec": {
   "display_name": "uu",
   "language": "python",
   "name": "python3"
  },
  "language_info": {
   "codemirror_mode": {
    "name": "ipython",
    "version": 3
   },
   "file_extension": ".py",
   "mimetype": "text/x-python",
   "name": "python",
   "nbconvert_exporter": "python",
   "pygments_lexer": "ipython3",
   "version": "3.10.9"
  },
  "orig_nbformat": 4,
  "vscode": {
   "interpreter": {
    "hash": "41706aaa5c8c4880afffc85b68590a70f64e938c655e1e01c55a94fecc790e7f"
   }
  }
 },
 "nbformat": 4,
 "nbformat_minor": 2
}
